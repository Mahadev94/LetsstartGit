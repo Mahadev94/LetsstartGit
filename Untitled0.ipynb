{
  "nbformat": 4,
  "nbformat_minor": 0,
  "metadata": {
    "colab": {
      "name": "Untitled0.ipynb",
      "provenance": [],
      "collapsed_sections": [],
      "authorship_tag": "ABX9TyNQ05VqW2EGJSCMSs9tldfs",
      "include_colab_link": true
    },
    "kernelspec": {
      "name": "python3",
      "display_name": "Python 3"
    },
    "language_info": {
      "name": "python"
    }
  },
  "cells": [
    {
      "cell_type": "markdown",
      "metadata": {
        "id": "view-in-github",
        "colab_type": "text"
      },
      "source": [
        "<a href=\"https://colab.research.google.com/github/Mahadevmk994/LetsstartGit/blob/main/Untitled0.ipynb\" target=\"_parent\"><img src=\"https://colab.research.google.com/assets/colab-badge.svg\" alt=\"Open In Colab\"/></a>"
      ]
    },
    {
      "cell_type": "markdown",
      "source": [
        "### **Scrap Multiple Pages of Flipkart site**\n",
        "\n",
        "---\n",
        "\n"
      ],
      "metadata": {
        "id": "MWLluGeXNbTv"
      }
    },
    {
      "cell_type": "code",
      "execution_count": 17,
      "metadata": {
        "id": "gQ951fdaMo4W"
      },
      "outputs": [],
      "source": [
        "#import required lib\n",
        "import requests\n",
        "from bs4 import BeautifulSoup\n",
        "import pandas as pd"
      ]
    },
    {
      "cell_type": "code",
      "source": [
        "#website \n",
        "url=\"https://www.flipkart.com/search?q=mobiles&otracker=AS_Query_HistoryAutoSuggest_2_0&otracker1=AS_Query_HistoryAutoSuggest_2_0&marketplace=FLIPKART&as-show=on&as=off&as-pos=2&as-type=HISTORY\"\n"
      ],
      "metadata": {
        "id": "hBN5mDo-N5PU"
      },
      "execution_count": 18,
      "outputs": []
    },
    {
      "cell_type": "code",
      "source": [
        "#send HTTP request\n",
        "response=requests.get(url)\n",
        "#respose\n",
        "response.status_code"
      ],
      "metadata": {
        "colab": {
          "base_uri": "https://localhost:8080/"
        },
        "id": "Ymg8QUL1N5Rp",
        "outputId": "b251d8cd-cbb3-4915-b30c-aa916dc8194c"
      },
      "execution_count": 19,
      "outputs": [
        {
          "output_type": "execute_result",
          "data": {
            "text/plain": [
              "200"
            ]
          },
          "metadata": {},
          "execution_count": 19
        }
      ]
    },
    {
      "cell_type": "code",
      "source": [
        "#soup object of HTML Content\n",
        "soup=BeautifulSoup(response.content, \"html.parser\")\n",
        "#soup"
      ],
      "metadata": {
        "id": "jSUSLXLHPytD"
      },
      "execution_count": 20,
      "outputs": []
    },
    {
      "cell_type": "code",
      "source": [
        "#print(soup.text)"
      ],
      "metadata": {
        "id": "MpkGG7fDPyve"
      },
      "execution_count": 21,
      "outputs": []
    },
    {
      "cell_type": "code",
      "source": [
        "#product details- tag and class store in one result.\n",
        "results=soup.find_all(\"div\",{\"class\":\"_2kHMtA\"})\n",
        "\n",
        "pro_name=[]\n",
        "pro_rating=[]\n",
        "pro_price=[]\n",
        "pro_details=[]\n",
        "# pro_url=[]\n",
        "pro_star=[]\n",
        "\n",
        "# loop url for all 500 pages.\n",
        "for i in range(1,101):\n",
        "  #website\n",
        "  web=\"https://www.flipkart.com/search?q=mobiles&otracker=AS_Query_HistoryAutoSuggest_2_0&otracker1=AS_Query_HistoryAutoSuggest_2_0&marketplace=FLIPKART&as-show=on&as=off&as-pos=2&as-type=HISTORY&page=\"+str(i)\n",
        "  \n",
        "  #requests HTML \n",
        "  response=requests.get(web)\n",
        "\n",
        "  #HTML content\n",
        "  soup=BeautifulSoup(response.content,\"html.parser\")\n",
        "\n",
        "  #results\n",
        "  results=soup.find_all(\"div\",{\"class\":\"_2kHMtA\"})\n",
        "\n",
        "  for result in results:\n",
        "    #name\n",
        "    try:\n",
        "      pro_name.append(result.find(\"div\",{\"class\":\"_4rR01T\"}).get_text())\n",
        "    except:\n",
        "      pro_name.append(\"NAN\")\n",
        "\n",
        "    #ratings\n",
        "    try:\n",
        "      pro_rating.append(result.find(\"span\",{\"class\":\"_2_R_DZ\"}).get_text())\n",
        "    except:\n",
        "      pro_rating.append(\"NAN\")\n",
        "    #price\n",
        "    try:\n",
        "      pro_price.append(result.find(\"div\",{\"class\":\"_30jeq3 _1_WHN1\"}).get_text())\n",
        "    except:\n",
        "      pro_price.append(\"NAN\")\n",
        "    #details\n",
        "    try:\n",
        "      pro_details.append(result.find(\"div\",{\"class\":\"fMghEO\"}).get_text())\n",
        "    except:\n",
        "      pro_details.append(\"NAN\")\n",
        "    #stars\n",
        "    try:\n",
        "      pro_star.append(result.find(\"div\",{\"class\":\"_3LWZlK\"}).get_text())\n",
        "    except:\n",
        "      pro_star.append(\"NAN\")"
      ],
      "metadata": {
        "id": "q6H9Oa4SPyxw"
      },
      "execution_count": 23,
      "outputs": []
    },
    {
      "cell_type": "code",
      "source": [
        "# get product url\n",
        "relevant_url=[]\n",
        "for result in results:\n",
        "  relevant_url.append(result.find(\"a\",{\"class\":\"_1fQZEK\"}).get(\"href\"))\n",
        "\n",
        "#rootl url\n",
        "root_url=\"https://www.flipkart.com\"\n",
        "\n",
        "#combine both urls\n",
        "from urllib.parse import urljoin\n",
        "combine_url=[]\n",
        "for link in relevant_url:\n",
        "  combine_url.append(urljoin(root_url,link))\n",
        "#print(combine_url)\n"
      ],
      "metadata": {
        "id": "WihV9XHic1VR"
      },
      "execution_count": 24,
      "outputs": []
    },
    {
      "cell_type": "code",
      "source": [
        "data={\"Name\":pro_name,\"Ratings\":pro_rating,\"Price\":pro_price,\"Details\":pro_details,\"Star_Ratings\":pro_star}\n",
        "dataset=pd.DataFrame(data)\n",
        "print(dataset.head(3))\n",
        "print(dataset.tail(3))"
      ],
      "metadata": {
        "id": "ub6bh90wPy0L",
        "colab": {
          "base_uri": "https://localhost:8080/"
        },
        "outputId": "d01a0a1d-7bc7-46d1-db1a-ca48bd19fd13"
      },
      "execution_count": 27,
      "outputs": [
        {
          "output_type": "stream",
          "name": "stdout",
          "text": [
            "                                     Name  ... Star_Ratings\n",
            "0       realme C25Y (Glacier Blue, 64 GB)  ...          4.5\n",
            "1  realme Narzo 50A (Oxygen Blue, 128 GB)  ...          4.4\n",
            "2        realme 8i (Space Purple, 128 GB)  ...          4.4\n",
            "\n",
            "[3 rows x 5 columns]\n",
            "                              Name  ... Star_Ratings\n",
            "957                Intex Eco 105vx  ...          3.9\n",
            "958  LG W31 (Midnight Blue, 64 GB)  ...          4.1\n",
            "959                    Kechaoda K8  ...          4.1\n",
            "\n",
            "[3 rows x 5 columns]\n"
          ]
        }
      ]
    },
    {
      "cell_type": "code",
      "source": [
        "#export into csv file\n",
        "dataset.to_csv(\"Flk_mobiles.csv\")"
      ],
      "metadata": {
        "id": "eAQVYeEoPy2Y"
      },
      "execution_count": 28,
      "outputs": []
    },
    {
      "cell_type": "code",
      "source": [
        ""
      ],
      "metadata": {
        "id": "gt4DotZXPy5O"
      },
      "execution_count": null,
      "outputs": []
    },
    {
      "cell_type": "code",
      "source": [
        ""
      ],
      "metadata": {
        "id": "mWYlrh6fN5VF"
      },
      "execution_count": null,
      "outputs": []
    }
  ]
}