{
  "nbformat": 4,
  "nbformat_minor": 0,
  "metadata": {
    "colab": {
      "name": "WebScraping -E commerce sites.ipynb",
      "provenance": [],
      "collapsed_sections": [],
      "authorship_tag": "ABX9TyPrqNRlC7CZhzQIBGJQwwNu",
      "include_colab_link": true
    },
    "kernelspec": {
      "name": "python3",
      "display_name": "Python 3"
    },
    "language_info": {
      "name": "python"
    }
  },
  "cells": [
    {
      "cell_type": "markdown",
      "metadata": {
        "id": "view-in-github",
        "colab_type": "text"
      },
      "source": [
        "<a href=\"https://colab.research.google.com/github/Mahadevmk994/LetsstartGit/blob/main/WebScraping_E_commerce_sites.ipynb\" target=\"_parent\"><img src=\"https://colab.research.google.com/assets/colab-badge.svg\" alt=\"Open In Colab\"/></a>"
      ]
    },
    {
      "cell_type": "markdown",
      "source": [
        "Import Required libraries"
      ],
      "metadata": {
        "id": "EL2dD5NmuoOA"
      }
    },
    {
      "cell_type": "code",
      "source": [
        "from bs4 import BeautifulSoup\n",
        "import requests\n",
        "import pandas as pd"
      ],
      "metadata": {
        "id": "lmtAGYWtutHq"
      },
      "execution_count": 63,
      "outputs": []
    },
    {
      "cell_type": "markdown",
      "source": [
        "HTTP Request"
      ],
      "metadata": {
        "id": "T5pz9jWGu-hn"
      }
    },
    {
      "cell_type": "code",
      "source": [
        "#save the url in variable\n",
        "url=\"https://www.flipkart.com/laptops/pr?sid=6bo,b5g&otracker=categorytree&fm=neo%2Fmerchandising&iid=M_c7eee00c-9914-491e-a633-b9c8420eaa75_1_372UD5BXDFYS_MC.34WHNYFH5V2Y&otracker=hp_rich_navigation_8_1.navigationCard.RICH_NAVIGATION_Electronics~Laptop%2Band%2BDesktop_34WHNYFH5V2Y&otracker1=hp_rich_navigation_PINNED_neo%2Fmerchandising_NA_NAV_EXPANDABLE_navigationCard_cc_8_L1_view-all&cid=34WHNYFH5V2Y\""
      ],
      "metadata": {
        "id": "jhERQXIou8VE"
      },
      "execution_count": 64,
      "outputs": []
    },
    {
      "cell_type": "markdown",
      "source": [
        "Get Request"
      ],
      "metadata": {
        "id": "ysO-v2roveXo"
      }
    },
    {
      "cell_type": "code",
      "source": [
        "response=requests.get(url)"
      ],
      "metadata": {
        "id": "prOgD-21u8X7"
      },
      "execution_count": 65,
      "outputs": []
    },
    {
      "cell_type": "markdown",
      "source": [
        "Status Code"
      ],
      "metadata": {
        "id": "_6paxYlavuRz"
      }
    },
    {
      "cell_type": "code",
      "source": [
        "response.status_code"
      ],
      "metadata": {
        "colab": {
          "base_uri": "https://localhost:8080/"
        },
        "id": "75tSZV0gu8aV",
        "outputId": "59bde85d-46a6-438b-bfcb-1158c2e50ee8"
      },
      "execution_count": 66,
      "outputs": [
        {
          "output_type": "execute_result",
          "data": {
            "text/plain": [
              "200"
            ]
          },
          "metadata": {},
          "execution_count": 66
        }
      ]
    },
    {
      "cell_type": "markdown",
      "source": [
        "This class of status codes indicates the action requested by the client was received, understood, and accepted.[2]\n",
        "\n",
        "200 OK\n",
        "Standard response for successful HTTP requests. The actual response will depend on the request method used. In a GET request, the response will contain an entity corresponding to the requested resource. In a POST request, the response will contain an entity describing or containing the result of the action."
      ],
      "metadata": {
        "id": "cPwzXBxNwW7L"
      }
    },
    {
      "cell_type": "markdown",
      "source": [
        "SOup Object"
      ],
      "metadata": {
        "id": "tW_WUROBwmiR"
      }
    },
    {
      "cell_type": "code",
      "source": [
        "soup=BeautifulSoup(response.content, \"html.parser\")"
      ],
      "metadata": {
        "id": "lYSCjmv9u8cr"
      },
      "execution_count": 67,
      "outputs": []
    },
    {
      "cell_type": "code",
      "source": [
        "# soup\n",
        "#accessed HTML contents"
      ],
      "metadata": {
        "id": "82j_XhlOu8gC"
      },
      "execution_count": 68,
      "outputs": []
    },
    {
      "cell_type": "markdown",
      "source": [
        "Results"
      ],
      "metadata": {
        "id": "76QrH5442gPO"
      }
    },
    {
      "cell_type": "code",
      "source": [
        "results=soup.find_all(\"div\",{\"class\":\"_2kHMtA\"})\n",
        "len(results)\n",
        "#total one page 24 product details are got from this class."
      ],
      "metadata": {
        "colab": {
          "base_uri": "https://localhost:8080/"
        },
        "id": "fZn419xAutLM",
        "outputId": "47cb6b25-d17a-4019-fe19-7392ea23e9bf"
      },
      "execution_count": 69,
      "outputs": [
        {
          "output_type": "execute_result",
          "data": {
            "text/plain": [
              "24"
            ]
          },
          "metadata": {},
          "execution_count": 69
        }
      ]
    },
    {
      "cell_type": "code",
      "source": [
        "print(results[0])\n",
        "#this is the HTML content of the first product"
      ],
      "metadata": {
        "colab": {
          "base_uri": "https://localhost:8080/"
        },
        "id": "OfjavwTW3zQq",
        "outputId": "d6f6ae65-35ef-42a5-9c24-38fa1933e3a5"
      },
      "execution_count": 70,
      "outputs": [
        {
          "output_type": "stream",
          "name": "stdout",
          "text": [
            "<div class=\"_2kHMtA\"><div class=\"_2tfzpE\"><span>Ad</span></div><a class=\"_1fQZEK\" href=\"/lenovo-ideapad-gaming-3-core-i5-10th-gen-8-gb-512-gb-ssd-windows-10-home-4-graphics-nvidia-geforce-gtx-1650-120-hz-15imh05-laptop/p/itm2e8313264ef6b?pid=COMG36BSJWHQDN68&amp;lid=LSTCOMG36BSJWHQDN681JRLZN&amp;marketplace=FLIPKART&amp;store=6bo%2Fb5g&amp;srno=b_1_1&amp;otracker=browse&amp;otracker1=hp_rich_navigation_PINNED_neo%2Fmerchandising_NA_NAV_EXPANDABLE_navigationCard_cc_8_L1_view-all&amp;fm=organic&amp;iid=en_Cgou4R%2B1JmibDfJRHiLj%2FLlTHOcrupUa7KXJP3Ep0PmFug24UmkCszMq%2FbBSMo58pynQ6VUZkEvMZkon67QDdA%3D%3D&amp;ppt=None&amp;ppn=None&amp;ssid=84gfmb0ib40000001640344326811\" rel=\"noopener noreferrer\" target=\"_blank\"><div class=\"MIXNux\"><div class=\"_2QcLo-\"><div><div class=\"CXW8mj\" style=\"height:200px;width:200px\"><img alt=\"Lenovo IdeaPad Gaming 3 Core i5 10th Gen - (8 GB/512 GB SSD/Windows 10 Home/4 GB Graphics/NVIDIA GeFor...\" class=\"_396cs4 _3exPp9\" src=\"https://rukminim1.flixcart.com/image/312/312/kp2y2kw0/computer/3/q/k/lenovo-original-imag3eht25nykhjn.jpeg?q=70\"/></div></div></div><div class=\"_3wLduG\"><div class=\"_3PzNI-\"><span class=\"f3A4_V\"><label class=\"_2iDkf8\"><input class=\"_30VH1S\" readonly=\"\" type=\"checkbox\"/><div class=\"_24_Dny\"></div></label></span><label class=\"_6Up2sF\"><span>Add to Compare</span></label></div></div><div class=\"_2hVSre _3nq8ih\"><div class=\"_36FSn5\"><svg class=\"_1l0elc\" height=\"16\" viewbox=\"0 0 20 16\" width=\"16\" xmlns=\"http://www.w3.org/2000/svg\"><path class=\"eX72wL\" d=\"M8.695 16.682C4.06 12.382 1 9.536 1 6.065 1 3.219 3.178 1 5.95 1c1.566 0 3.069.746 4.05 1.915C10.981 1.745 12.484 1 14.05 1 16.822 1 19 3.22 19 6.065c0 3.471-3.06 6.316-7.695 10.617L10 17.897l-1.305-1.215z\" fill=\"#2874F0\" fill-rule=\"evenodd\" opacity=\".9\" stroke=\"#FFF\"></path></svg></div></div></div><div class=\"_3pLy-c row\"><div class=\"col col-7-12\"><div class=\"_4rR01T\">Lenovo IdeaPad Gaming 3 Core i5 10th Gen - (8 GB/512 GB SSD/Windows 10 Home/4 GB Graphics/NVIDIA GeFor...</div><div class=\"gUuXy-\"><span class=\"_1lRcqv\" id=\"productRating_LSTCOMG36BSJWHQDN681JRLZN_COMG36BSJWHQDN68_\"><div class=\"_3LWZlK\">4.3<img class=\"_1wB99o\" src=\"data:image/svg+xml;base64,PHN2ZyB4bWxucz0iaHR0cDovL3d3dy53My5vcmcvMjAwMC9zdmciIHdpZHRoPSIxMyIgaGVpZ2h0PSIxMiI+PHBhdGggZmlsbD0iI0ZGRiIgZD0iTTYuNSA5LjQzOWwtMy42NzQgMi4yMy45NC00LjI2LTMuMjEtMi44ODMgNC4yNTQtLjQwNEw2LjUuMTEybDEuNjkgNC4wMSA0LjI1NC40MDQtMy4yMSAyLjg4Mi45NCA0LjI2eiIvPjwvc3ZnPg==\"/></div></span><span class=\"_2_R_DZ\"><span><span>306 Ratings </span><span class=\"_13vcmD\">&amp;</span><span> 25 Reviews</span></span></span></div><div class=\"fMghEO\"><ul class=\"_1xgFaf\"><li class=\"rgWa7D\">Intel Core i5 Processor (10th Gen)</li><li class=\"rgWa7D\">8 GB DDR4 RAM</li><li class=\"rgWa7D\">64 bit Windows 10 Operating System</li><li class=\"rgWa7D\">512 GB SSD</li><li class=\"rgWa7D\">39.62 cm (15.6 inch) Display</li><li class=\"rgWa7D\">1 Year Warranty + 1 Year ADP + 1 Year Premium Care</li></ul></div></div><div class=\"col col-5-12 nlI3QM\"><div class=\"_3tbKJL\"><div class=\"_25b18c\"><div class=\"_30jeq3 _1_WHN1\">₹58,990</div><div class=\"_3I9_wc _27UcVY\">₹<!-- -->68,434</div><div class=\"_3Ay6Sb\"><span>13% off</span></div></div><div class=\"_3tcB5a p8ucoS\"><div><div class=\"_2Tpdn3\" style=\"color:#000000;font-size:12px;font-style:normal;font-weight:400\">Free delivery</div></div></div></div><div class=\"_13J9qT\"><img height=\"21\" src=\"//static-assets-web.flixcart.com/www/linchpin/fk-cp-zion/img/fa_62673a.png\"/></div><div class=\"_2ZdXDB\"><div class=\"_3xFhiH\"><div class=\"_2Tpdn3 _18hQoS\" style=\"color:#000000;font-size:12px;font-style:normal;font-weight:400\">No Cost EMI from ₹9,832/month</div></div></div></div></div></a></div>\n"
          ]
        }
      ]
    },
    {
      "cell_type": "markdown",
      "source": [
        "Targeted Neccesary data"
      ],
      "metadata": {
        "id": "uAJ6Nz-I4hNh"
      }
    },
    {
      "cell_type": "markdown",
      "source": [
        "\n",
        "\n",
        "1.  Name\n",
        "2. Price\n",
        "3. Review Rating\n",
        "4. Review Count\n",
        "5. Product Link\n",
        "6. Product Details"
      ],
      "metadata": {
        "id": "BSnhHSZZ4knL"
      }
    },
    {
      "cell_type": "code",
      "source": [
        "#Name\n",
        "results[0].find(\"div\",{\"class\":\"_4rR01T\"}).get_text()"
      ],
      "metadata": {
        "colab": {
          "base_uri": "https://localhost:8080/",
          "height": 36
        },
        "id": "FLi-xF7g413C",
        "outputId": "40e3ca25-06fb-4e6f-f001-a2454c78fdc1"
      },
      "execution_count": 71,
      "outputs": [
        {
          "output_type": "execute_result",
          "data": {
            "application/vnd.google.colaboratory.intrinsic+json": {
              "type": "string"
            },
            "text/plain": [
              "'Lenovo IdeaPad Gaming 3 Core i5 10th Gen - (8 GB/512 GB SSD/Windows 10 Home/4 GB Graphics/NVIDIA GeFor...'"
            ]
          },
          "metadata": {},
          "execution_count": 71
        }
      ]
    },
    {
      "cell_type": "code",
      "source": [
        "#price\n",
        "results[0].find(\"div\",{\"class\":\"_30jeq3 _1_WHN1\"}).get_text()"
      ],
      "metadata": {
        "colab": {
          "base_uri": "https://localhost:8080/",
          "height": 36
        },
        "id": "Rvka5xQI4192",
        "outputId": "bac5bd03-169f-4aa8-ce7e-d6937f6e47ac"
      },
      "execution_count": 72,
      "outputs": [
        {
          "output_type": "execute_result",
          "data": {
            "application/vnd.google.colaboratory.intrinsic+json": {
              "type": "string"
            },
            "text/plain": [
              "'₹58,990'"
            ]
          },
          "metadata": {},
          "execution_count": 72
        }
      ]
    },
    {
      "cell_type": "code",
      "source": [
        "#review rating \n",
        "results[0].find(\"div\",{\"class\":\"_3LWZlK\"}).get_text()"
      ],
      "metadata": {
        "colab": {
          "base_uri": "https://localhost:8080/",
          "height": 36
        },
        "id": "LvPLTlP-6-QJ",
        "outputId": "1fc8d2b9-a2ab-456b-b244-1f4a55ad3f25"
      },
      "execution_count": 73,
      "outputs": [
        {
          "output_type": "execute_result",
          "data": {
            "application/vnd.google.colaboratory.intrinsic+json": {
              "type": "string"
            },
            "text/plain": [
              "'4.3'"
            ]
          },
          "metadata": {},
          "execution_count": 73
        }
      ]
    },
    {
      "cell_type": "code",
      "source": [
        "#Review Count\n",
        "results[0].find(\"span\",{\"class\":\"_2_R_DZ\"}).get_text()"
      ],
      "metadata": {
        "colab": {
          "base_uri": "https://localhost:8080/",
          "height": 36
        },
        "id": "fzozsNzK6-Sv",
        "outputId": "61721142-3af0-4580-98a4-2cc801ad6f6f"
      },
      "execution_count": 74,
      "outputs": [
        {
          "output_type": "execute_result",
          "data": {
            "application/vnd.google.colaboratory.intrinsic+json": {
              "type": "string"
            },
            "text/plain": [
              "'306 Ratings\\xa0&\\xa025 Reviews'"
            ]
          },
          "metadata": {},
          "execution_count": 74
        }
      ]
    },
    {
      "cell_type": "code",
      "source": [
        "#Relative URL\n",
        "relative_url=results[1].find(\"a\",{\"class\":\"_1fQZEK\"}).get(\"href\")"
      ],
      "metadata": {
        "id": "p2P-enap6-U2"
      },
      "execution_count": 75,
      "outputs": []
    },
    {
      "cell_type": "code",
      "source": [
        "#provide root element inside variable\n",
        "root_url=\"https://www.flipkart.com\""
      ],
      "metadata": {
        "id": "-U6cQs7Q6-YQ"
      },
      "execution_count": 76,
      "outputs": []
    },
    {
      "cell_type": "code",
      "source": [
        "#combine both url\n",
        "product_url=root_url+relative_url"
      ],
      "metadata": {
        "id": "ZoZaGRrUD90_"
      },
      "execution_count": 77,
      "outputs": []
    },
    {
      "cell_type": "code",
      "source": [
        "product_url"
      ],
      "metadata": {
        "colab": {
          "base_uri": "https://localhost:8080/",
          "height": 91
        },
        "id": "PXW7cTNUD93X",
        "outputId": "11ce3be1-3084-47bd-e526-756f1f179191"
      },
      "execution_count": 78,
      "outputs": [
        {
          "output_type": "execute_result",
          "data": {
            "application/vnd.google.colaboratory.intrinsic+json": {
              "type": "string"
            },
            "text/plain": [
              "'https://www.flipkart.com/msi-creator-z16-core-i9-11th-gen-16-gb-1-tb-ssd-windows-10-home-6-gb-graphics-nvidia-geforce-rtx-3060-a11uet-272in-gaming-laptop/p/itm11c15d04c83ab?pid=COMG85AYAKYRNFV2&lid=LSTCOMG85AYAKYRNFV2XNOYWM&marketplace=FLIPKART&store=6bo%2Fb5g&srno=b_1_2&otracker=browse&otracker1=hp_rich_navigation_PINNED_neo%2Fmerchandising_NA_NAV_EXPANDABLE_navigationCard_cc_8_L1_view-all&fm=organic&iid=en_Cgou4R%2B1JmibDfJRHiLj%2FLlTHOcrupUa7KXJP3Ep0PlohiEg5C3xAqt%2FF9cwZoHBigrxnMPkbMHotHU4oE6eRQ%3D%3D&ppt=None&ppn=None&ssid=84gfmb0ib40000001640344326811'"
            ]
          },
          "metadata": {},
          "execution_count": 78
        }
      ]
    },
    {
      "cell_type": "code",
      "source": [
        "#Product Details\n",
        "results[0].find(\"div\",{\"class\":\"fMghEO\"}).get_text()"
      ],
      "metadata": {
        "colab": {
          "base_uri": "https://localhost:8080/",
          "height": 54
        },
        "id": "0rRpfG4fD96y",
        "outputId": "c7a08984-36c7-4471-841b-625587501b35"
      },
      "execution_count": 79,
      "outputs": [
        {
          "output_type": "execute_result",
          "data": {
            "application/vnd.google.colaboratory.intrinsic+json": {
              "type": "string"
            },
            "text/plain": [
              "'Intel Core i5 Processor (10th Gen)8 GB DDR4 RAM64 bit Windows 10 Operating System512 GB SSD39.62 cm (15.6 inch) Display1 Year Warranty + 1 Year ADP + 1 Year Premium Care'"
            ]
          },
          "metadata": {},
          "execution_count": 79
        }
      ]
    },
    {
      "cell_type": "code",
      "source": [
        "#Get all product details with for loop:\n",
        "product_names=[]\n",
        "Product_price=[]\n",
        "product_rating=[]\n",
        "product_reviews=[]\n",
        "relative_url=[]\n",
        "product_details=[]\n",
        "for result in results:\n",
        "  #names\n",
        "  try:\n",
        "    product_names.append(result.find(\"div\",{\"class\":\"_4rR01T\"}).get_text())\n",
        "  except:\n",
        "    product_names.append(\"n/a\")\n",
        "  #price\n",
        "  try:\n",
        "    Product_price.append(result.find(\"div\",{\"class\":\"_30jeq3 _1_WHN1\"}).get_text())\n",
        "  except:\n",
        "    Product_price.append(\"n/a\")\n",
        "  #rating\n",
        "  try:\n",
        "    product_rating.append(result.find(\"div\",{\"class\":\"_3LWZlK\"}).get_text())\n",
        "  except:\n",
        "    product_rating.append(\"n/a\")\n",
        "   #Review count\n",
        "  try:\n",
        "    product_reviews.append(result.find(\"span\",{\"class\":\"_2_R_DZ\"}).get_text())\n",
        "  except:\n",
        "    product_reviews.append(\"n/a\")\n",
        "  #relative url\n",
        "  try:\n",
        "    relative_url.append(result.find(\"a\",{\"class\":\"_1fQZEK\"}).get(\"href\"))\n",
        "  except:\n",
        "    relative_url.append(\"n/a\")\n",
        "  #product details\n",
        "  try:\n",
        "    product_details.append(result.find(\"div\",{\"class\":\"fMghEO\"}).get_text())\n",
        "  except:\n",
        "    product_details.append(\"n/a\")\n",
        "\n",
        "\n"
      ],
      "metadata": {
        "id": "dJmlL-2qGDbY"
      },
      "execution_count": 80,
      "outputs": []
    },
    {
      "cell_type": "code",
      "source": [
        "#combine_url\n",
        "from urllib.parse import urlparse,urljoin\n",
        "combine_url=[]\n",
        "for link in relative_url:\n",
        "  combine_url.append(urljoin(root_url,link))"
      ],
      "metadata": {
        "id": "qU-5FqNoGDdm"
      },
      "execution_count": 81,
      "outputs": []
    },
    {
      "cell_type": "markdown",
      "source": [
        "urllib.parse.urljoin(base, url, allow_fragments=True)\n",
        "Construct a full (“absolute”) URL by combining a “base URL” (base) with another URL (url). Informally, this uses components of the base URL, in particular the addressing scheme, the network location and (part of) the path, to provide missing components in the relative URL"
      ],
      "metadata": {
        "id": "-HJg7rIxkrCq"
      }
    },
    {
      "cell_type": "code",
      "source": [
        "# print(combine_url)"
      ],
      "metadata": {
        "id": "aNl1wQsJgZP2"
      },
      "execution_count": 82,
      "outputs": []
    },
    {
      "cell_type": "code",
      "source": [
        "#Create Pandas Dataframe\n",
        "data={\"Name\":product_names,\"Price\":Product_price,\"Ratings\":product_rating,\"Reviews\":product_reviews,\"Details\":product_details,\"URL\":combine_url}"
      ],
      "metadata": {
        "id": "L0Pi4-ialWEv"
      },
      "execution_count": 83,
      "outputs": []
    },
    {
      "cell_type": "code",
      "source": [
        "df=pd.DataFrame(data)\n",
        "print(df.head())\n",
        "print(df.tail())"
      ],
      "metadata": {
        "colab": {
          "base_uri": "https://localhost:8080/"
        },
        "id": "i-C8xe_ilWH_",
        "outputId": "bc56e88f-cb89-4aca-c48e-3ab4cb747c28"
      },
      "execution_count": 84,
      "outputs": [
        {
          "output_type": "stream",
          "name": "stdout",
          "text": [
            "                                                Name  ...                                                URL\n",
            "0  Lenovo IdeaPad Gaming 3 Core i5 10th Gen - (8 ...  ...  https://www.flipkart.com/lenovo-ideapad-gaming...\n",
            "1  MSI Creator Z16 Core i9 11th Gen - (16 GB/1 TB...  ...  https://www.flipkart.com/msi-creator-z16-core-...\n",
            "2  acer Aspire 7 Core i5 10th Gen - (8 GB/512 GB ...  ...  https://www.flipkart.com/acer-aspire-7-core-i5...\n",
            "3  DELL Vostro 3405 Athlon Dual Core 3050 - (4 GB...  ...  https://www.flipkart.com/dell-vostro-3405-athl...\n",
            "4  ASUS VivoBook 15 (2021) Core i3 11th Gen - (4 ...  ...  https://www.flipkart.com/asus-vivobook-15-2021...\n",
            "\n",
            "[5 rows x 6 columns]\n",
            "                                                 Name  ...                                                URL\n",
            "19  MSI Pulse GL66 Core i7 11th Gen - (16 GB/1 TB ...  ...  https://www.flipkart.com/msi-pulse-gl66-core-i...\n",
            "20  ASUS TUF Gaming F15 Core i5 10th Gen - (8 GB/5...  ...  https://www.flipkart.com/asus-tuf-gaming-f15-c...\n",
            "21  ASUS ASUS TUF Gaming Core i7 11th Gen - (16 GB...  ...  https://www.flipkart.com/asus-tuf-gaming-core-...\n",
            "22  HP Core i3 11th Gen - (8 GB/512 GB SSD/Windows...  ...  https://www.flipkart.com/hp-core-i3-11th-gen-8...\n",
            "23  Lenovo Ideapad Slim 3i (2021) Core i5 11th Gen...  ...  https://www.flipkart.com/lenovo-ideapad-slim-3...\n",
            "\n",
            "[5 rows x 6 columns]\n"
          ]
        }
      ]
    },
    {
      "cell_type": "code",
      "source": [
        "#store in Excel\n",
        "df.to_excel(\"Flipkart_Products_single_page.xlsx\",index=False)"
      ],
      "metadata": {
        "id": "ywCFcq6PlWKx"
      },
      "execution_count": 85,
      "outputs": []
    },
    {
      "cell_type": "markdown",
      "source": [
        "Scraping all 31 Pages"
      ],
      "metadata": {
        "id": "42Hrz-dHoWnl"
      }
    },
    {
      "cell_type": "code",
      "source": [
        "product_names=[]\n",
        "Product_price=[]\n",
        "product_rating=[]\n",
        "product_reviews=[]\n",
        "relative_url=[]\n",
        "product_details=[]\n",
        "\n",
        "for i in range(1,33):\n",
        "  #website\n",
        "  website=\"https://www.flipkart.com/laptops/pr?sid=6bo%2Cb5g&otracker=categorytree&fm=neo%2Fmerchandising&iid=M_c7eee00c-9914-491e-a633-b9c8420eaa75_1_372UD5BXDFYS_MC.34WHNYFH5V2Y&otracker=hp_rich_navigation_8_1.navigationCard.RICH_NAVIGATION_Electronics%7ELaptop%2Band%2BDesktop_34WHNYFH5V2Y&otracker1=hp_rich_navigation_PINNED_neo%2Fmerchandising_NA_NAV_EXPANDABLE_navigationCard_cc_8_L1_view-all&cid=34WHNYFH5V2Y&page=\"+str(i)\n",
        "\n",
        "  #request\n",
        "  response=requests.get(website)\n",
        "\n",
        "  #soup object\n",
        "  soup=BeautifulSoup(response.content, \"html.parser\")\n",
        "\n",
        "  #results\n",
        "  results=soup.find_all(\"div\",{\"class\":\"_2kHMtA\"})\n",
        "\n",
        "  #loop through results\n",
        "  for result in results:\n",
        "    #names\n",
        "    try:\n",
        "      product_names.append(result.find(\"div\",{\"class\":\"_4rR01T\"}).get_text())\n",
        "    except:\n",
        "      product_names.append(\"n/a\")\n",
        "    #price\n",
        "    try:\n",
        "      Product_price.append(result.find(\"div\",{\"class\":\"_30jeq3 _1_WHN1\"}).get_text())\n",
        "    except:\n",
        "      Product_price.append(\"n/a\")\n",
        "    #rating\n",
        "    try:\n",
        "      product_rating.append(result.find(\"div\",{\"class\":\"_3LWZlK\"}).get_text())\n",
        "    except:\n",
        "      product_rating.append(\"n/a\")\n",
        "     #Review count\n",
        "    try:\n",
        "      product_reviews.append(result.find(\"span\",{\"class\":\"_2_R_DZ\"}).get_text())\n",
        "    except:\n",
        "      product_reviews.append(\"n/a\")\n",
        "    #relative url\n",
        "    try:\n",
        "      relative_url.append(result.find(\"a\",{\"class\":\"_1fQZEK\"}).get(\"href\"))\n",
        "    except:\n",
        "      relative_url.append(\"n/a\")\n",
        "    #product details\n",
        "    try:\n",
        "      product_details.append(result.find(\"div\",{\"class\":\"fMghEO\"}).get_text())\n",
        "    except:\n",
        "      product_details.append(\"n/a\")\n",
        "\n",
        "\n"
      ],
      "metadata": {
        "id": "J0d9Iv_ooUcZ"
      },
      "execution_count": 86,
      "outputs": []
    },
    {
      "cell_type": "code",
      "source": [
        "#combine_url\n",
        "from urllib.parse import urlparse,urljoin\n",
        "combine_url=[]\n",
        "for link in relative_url:\n",
        "  combine_url.append(urljoin(root_url,link))"
      ],
      "metadata": {
        "id": "HKOD76AgoUfw"
      },
      "execution_count": 88,
      "outputs": []
    },
    {
      "cell_type": "code",
      "source": [
        "#Create Pandas Dataframe\n",
        "data={\"Name\":product_names,\"Price\":Product_price,\"Ratings\":product_rating,\"Reviews\":product_reviews,\"Details\":product_details,\"URL\":combine_url}"
      ],
      "metadata": {
        "id": "P9id-2uRvq9U"
      },
      "execution_count": 89,
      "outputs": []
    },
    {
      "cell_type": "code",
      "source": [
        "df=pd.DataFrame(data)\n",
        "df.head()"
      ],
      "metadata": {
        "colab": {
          "base_uri": "https://localhost:8080/",
          "height": 337
        },
        "id": "g3Q-CApqvrJp",
        "outputId": "845b20c4-b607-4f4b-825a-a316962f6b73"
      },
      "execution_count": 90,
      "outputs": [
        {
          "output_type": "execute_result",
          "data": {
            "text/html": [
              "\n",
              "  <div id=\"df-a55b37df-1767-47fe-81a5-d2b09e647784\">\n",
              "    <div class=\"colab-df-container\">\n",
              "      <div>\n",
              "<style scoped>\n",
              "    .dataframe tbody tr th:only-of-type {\n",
              "        vertical-align: middle;\n",
              "    }\n",
              "\n",
              "    .dataframe tbody tr th {\n",
              "        vertical-align: top;\n",
              "    }\n",
              "\n",
              "    .dataframe thead th {\n",
              "        text-align: right;\n",
              "    }\n",
              "</style>\n",
              "<table border=\"1\" class=\"dataframe\">\n",
              "  <thead>\n",
              "    <tr style=\"text-align: right;\">\n",
              "      <th></th>\n",
              "      <th>Name</th>\n",
              "      <th>Price</th>\n",
              "      <th>Ratings</th>\n",
              "      <th>Reviews</th>\n",
              "      <th>Details</th>\n",
              "      <th>URL</th>\n",
              "    </tr>\n",
              "  </thead>\n",
              "  <tbody>\n",
              "    <tr>\n",
              "      <th>0</th>\n",
              "      <td>Lenovo IdeaPad Gaming 3 Core i5 10th Gen - (8 ...</td>\n",
              "      <td>₹58,990</td>\n",
              "      <td>4.3</td>\n",
              "      <td>306 Ratings &amp; 25 Reviews</td>\n",
              "      <td>Intel Core i5 Processor (10th Gen)8 GB DDR4 RA...</td>\n",
              "      <td>https://www.flipkart.com/lenovo-ideapad-gaming...</td>\n",
              "    </tr>\n",
              "    <tr>\n",
              "      <th>1</th>\n",
              "      <td>MSI Creator Z16 Core i9 11th Gen - (16 GB/1 TB...</td>\n",
              "      <td>₹2,12,990</td>\n",
              "      <td>n/a</td>\n",
              "      <td>n/a</td>\n",
              "      <td>Intel Core i9 Processor (11th Gen)16 GB DDR4 R...</td>\n",
              "      <td>https://www.flipkart.com/msi-creator-z16-core-...</td>\n",
              "    </tr>\n",
              "    <tr>\n",
              "      <th>2</th>\n",
              "      <td>acer Aspire 7 Core i5 10th Gen - (8 GB/512 GB ...</td>\n",
              "      <td>₹49,990</td>\n",
              "      <td>4.4</td>\n",
              "      <td>7,445 Ratings &amp; 802 Reviews</td>\n",
              "      <td>Free upgrade to Windows 11 when availableIntel...</td>\n",
              "      <td>https://www.flipkart.com/acer-aspire-7-core-i5...</td>\n",
              "    </tr>\n",
              "    <tr>\n",
              "      <th>3</th>\n",
              "      <td>DELL Vostro 3405 Athlon Dual Core 3050 - (4 GB...</td>\n",
              "      <td>₹32,990</td>\n",
              "      <td>4.1</td>\n",
              "      <td>372 Ratings &amp; 44 Reviews</td>\n",
              "      <td>AMD Athlon Dual Core Processor4 GB DDR4 RAM64 ...</td>\n",
              "      <td>https://www.flipkart.com/dell-vostro-3405-athl...</td>\n",
              "    </tr>\n",
              "    <tr>\n",
              "      <th>4</th>\n",
              "      <td>ASUS VivoBook 15 (2021) Core i3 11th Gen - (4 ...</td>\n",
              "      <td>₹35,990</td>\n",
              "      <td>4.3</td>\n",
              "      <td>468 Ratings &amp; 66 Reviews</td>\n",
              "      <td>Intel Core i3 Processor (11th Gen)4 GB DDR4 RA...</td>\n",
              "      <td>https://www.flipkart.com/asus-vivobook-15-2021...</td>\n",
              "    </tr>\n",
              "  </tbody>\n",
              "</table>\n",
              "</div>\n",
              "      <button class=\"colab-df-convert\" onclick=\"convertToInteractive('df-a55b37df-1767-47fe-81a5-d2b09e647784')\"\n",
              "              title=\"Convert this dataframe to an interactive table.\"\n",
              "              style=\"display:none;\">\n",
              "        \n",
              "  <svg xmlns=\"http://www.w3.org/2000/svg\" height=\"24px\"viewBox=\"0 0 24 24\"\n",
              "       width=\"24px\">\n",
              "    <path d=\"M0 0h24v24H0V0z\" fill=\"none\"/>\n",
              "    <path d=\"M18.56 5.44l.94 2.06.94-2.06 2.06-.94-2.06-.94-.94-2.06-.94 2.06-2.06.94zm-11 1L8.5 8.5l.94-2.06 2.06-.94-2.06-.94L8.5 2.5l-.94 2.06-2.06.94zm10 10l.94 2.06.94-2.06 2.06-.94-2.06-.94-.94-2.06-.94 2.06-2.06.94z\"/><path d=\"M17.41 7.96l-1.37-1.37c-.4-.4-.92-.59-1.43-.59-.52 0-1.04.2-1.43.59L10.3 9.45l-7.72 7.72c-.78.78-.78 2.05 0 2.83L4 21.41c.39.39.9.59 1.41.59.51 0 1.02-.2 1.41-.59l7.78-7.78 2.81-2.81c.8-.78.8-2.07 0-2.86zM5.41 20L4 18.59l7.72-7.72 1.47 1.35L5.41 20z\"/>\n",
              "  </svg>\n",
              "      </button>\n",
              "      \n",
              "  <style>\n",
              "    .colab-df-container {\n",
              "      display:flex;\n",
              "      flex-wrap:wrap;\n",
              "      gap: 12px;\n",
              "    }\n",
              "\n",
              "    .colab-df-convert {\n",
              "      background-color: #E8F0FE;\n",
              "      border: none;\n",
              "      border-radius: 50%;\n",
              "      cursor: pointer;\n",
              "      display: none;\n",
              "      fill: #1967D2;\n",
              "      height: 32px;\n",
              "      padding: 0 0 0 0;\n",
              "      width: 32px;\n",
              "    }\n",
              "\n",
              "    .colab-df-convert:hover {\n",
              "      background-color: #E2EBFA;\n",
              "      box-shadow: 0px 1px 2px rgba(60, 64, 67, 0.3), 0px 1px 3px 1px rgba(60, 64, 67, 0.15);\n",
              "      fill: #174EA6;\n",
              "    }\n",
              "\n",
              "    [theme=dark] .colab-df-convert {\n",
              "      background-color: #3B4455;\n",
              "      fill: #D2E3FC;\n",
              "    }\n",
              "\n",
              "    [theme=dark] .colab-df-convert:hover {\n",
              "      background-color: #434B5C;\n",
              "      box-shadow: 0px 1px 3px 1px rgba(0, 0, 0, 0.15);\n",
              "      filter: drop-shadow(0px 1px 2px rgba(0, 0, 0, 0.3));\n",
              "      fill: #FFFFFF;\n",
              "    }\n",
              "  </style>\n",
              "\n",
              "      <script>\n",
              "        const buttonEl =\n",
              "          document.querySelector('#df-a55b37df-1767-47fe-81a5-d2b09e647784 button.colab-df-convert');\n",
              "        buttonEl.style.display =\n",
              "          google.colab.kernel.accessAllowed ? 'block' : 'none';\n",
              "\n",
              "        async function convertToInteractive(key) {\n",
              "          const element = document.querySelector('#df-a55b37df-1767-47fe-81a5-d2b09e647784');\n",
              "          const dataTable =\n",
              "            await google.colab.kernel.invokeFunction('convertToInteractive',\n",
              "                                                     [key], {});\n",
              "          if (!dataTable) return;\n",
              "\n",
              "          const docLinkHtml = 'Like what you see? Visit the ' +\n",
              "            '<a target=\"_blank\" href=https://colab.research.google.com/notebooks/data_table.ipynb>data table notebook</a>'\n",
              "            + ' to learn more about interactive tables.';\n",
              "          element.innerHTML = '';\n",
              "          dataTable['output_type'] = 'display_data';\n",
              "          await google.colab.output.renderOutput(dataTable, element);\n",
              "          const docLink = document.createElement('div');\n",
              "          docLink.innerHTML = docLinkHtml;\n",
              "          element.appendChild(docLink);\n",
              "        }\n",
              "      </script>\n",
              "    </div>\n",
              "  </div>\n",
              "  "
            ],
            "text/plain": [
              "                                                Name  ...                                                URL\n",
              "0  Lenovo IdeaPad Gaming 3 Core i5 10th Gen - (8 ...  ...  https://www.flipkart.com/lenovo-ideapad-gaming...\n",
              "1  MSI Creator Z16 Core i9 11th Gen - (16 GB/1 TB...  ...  https://www.flipkart.com/msi-creator-z16-core-...\n",
              "2  acer Aspire 7 Core i5 10th Gen - (8 GB/512 GB ...  ...  https://www.flipkart.com/acer-aspire-7-core-i5...\n",
              "3  DELL Vostro 3405 Athlon Dual Core 3050 - (4 GB...  ...  https://www.flipkart.com/dell-vostro-3405-athl...\n",
              "4  ASUS VivoBook 15 (2021) Core i3 11th Gen - (4 ...  ...  https://www.flipkart.com/asus-vivobook-15-2021...\n",
              "\n",
              "[5 rows x 6 columns]"
            ]
          },
          "metadata": {},
          "execution_count": 90
        }
      ]
    },
    {
      "cell_type": "code",
      "source": [
        "#store in Excel\n",
        "df.to_excel(\"Flipkart_Products_multiple_pages.xlsx\",index=False)"
      ],
      "metadata": {
        "id": "nxRtNia5vyf5"
      },
      "execution_count": 91,
      "outputs": []
    }
  ]
}